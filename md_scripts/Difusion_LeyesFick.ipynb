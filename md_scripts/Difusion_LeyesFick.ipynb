{
 "cells": [
  {
   "attachments": {},
   "cell_type": "markdown",
   "metadata": {},
   "source": [
    "# Difusion de solutos con y sin carga "
   ]
  },
  {
   "attachments": {},
   "cell_type": "markdown",
   "metadata": {},
   "source": [
    "## Simulacion Difusion en 1-Dimension"
   ]
  },
  {
   "attachments": {},
   "cell_type": "markdown",
   "metadata": {},
   "source": [
    "Simulacion muy simple y aproximada. No considera colision entre particulas realmente.\n",
    "\n",
    "Inspirado en: https://scipython.com/blog/a-very-simple-2-d-diffusion-model/"
   ]
  },
  {
   "cell_type": "code",
   "execution_count": 53,
   "metadata": {},
   "outputs": [],
   "source": [
    "import numpy as np\n",
    "import matplotlib.pyplot as plt\n",
    "from matplotlib.animation import FuncAnimation"
   ]
  },
  {
   "cell_type": "code",
   "execution_count": 113,
   "metadata": {},
   "outputs": [],
   "source": [
    "# (Square) grid side length.\n",
    "x_max = 50\n",
    "y_max = 20\n",
    "\n",
    "# Maximum absolute displacement in the x direction\n",
    "max_x_mov = 1\n",
    "\n",
    "# Maximum numbter of iterations.\n",
    "nitmax = 750\n",
    "# Number of particles in the simulation.\n",
    "nparticles = 1000\n",
    "# Output a frame (plot image) every nevery iterations.\n",
    "nevery = 15\n",
    "\n",
    "# Initialize the location of all the particles to the centre of the grid.\n",
    "x_locs = np.ones((nparticles,nitmax), dtype=float)*x_max/2 #posicion inicial en x\n",
    "y_locs = np.random.uniform(low=0, high=y_max, size=(nparticles,)) #posicion inicial en y\n",
    "\n",
    "#Computo de histograma de las posiciones en x para cada iteracion\n",
    "bins = 40\n",
    "hist_x_locs = np.zeros((bins,nitmax), dtype=float) #histograma de las posiciones en x\n",
    "hist_x_locs[:,0], edges = np.histogram(x_locs, bins = bins, range = (0, x_max)) \n",
    "\n",
    "# Se genera para todas las posibles iteraciones, la actualizacion de la posicion en x. \n",
    "# A la posicion previa se le suma un movimiento aleatorio.\n",
    "for iteration in range(nitmax):\n",
    "\n",
    "    if iteration == 0:\n",
    "        continue\n",
    "    else:\n",
    "        x_locs[:,iteration] = x_locs[:,iteration-1] + np.random.uniform(low=(-1)*max_x_mov, high=max_x_mov, size=(nparticles,))\n",
    "        hist_x_locs[:,iteration], edges = np.histogram(x_locs[:,iteration], bins = bins, range = (0, x_max)) \n",
    "\n",
    "# Create the 2D figure object.\n",
    "fig = plt.figure()\n",
    "fig.set_size_inches(15, 10)\n",
    "ax = fig.add_subplot(111)\n",
    "ax.set_xlim(0, x_max)\n",
    "ax.set_ylim(0, y_max)\n",
    "ax.set_xlabel(\"Posicion horizontal [cms]\")\n",
    "ax.set_ylabel(\"Posicion vertical [cms]\")\n",
    "ax.set_title(\"Simulacion de la Difusion de un soluto\")\n",
    "\n",
    "puntos = ax.scatter(x_locs[:,0].T, y_locs.T, s=1.5, c=\"red\")\n",
    "plt.show()\n",
    "\n",
    "#data = np.vstack((x_locs[:,100], y_locs))\n",
    "#puntos.set_offsets(data.T)\n",
    "#plt.show()\n",
    "\n",
    "def animation_frame(i, x_locs, y_locs, puntos):\n",
    "    # update x_locs data\n",
    "    data = np.vstack((x_locs[:,i], y_locs))\n",
    "    # update data for the plot\n",
    "    puntos.set_offsets(data.T)\n",
    "    \n",
    "    return puntos\n",
    "\n",
    "ani = FuncAnimation(fig, animation_frame, frames = nitmax, fargs=(x_locs, y_locs, puntos), interval=10, repeat = False)"
   ]
  },
  {
   "attachments": {},
   "cell_type": "markdown",
   "metadata": {},
   "source": [
    "Se vuelve a correr la simulacion incluyendo un histograma de la posicion de las particular para estudiar su distribucion"
   ]
  },
  {
   "cell_type": "code",
   "execution_count": 116,
   "metadata": {},
   "outputs": [],
   "source": [
    "# Create the 2D figure object.\n",
    "fig, ax = plt.subplots(2,1)\n",
    "fig.set_size_inches(15, 10)\n",
    "\n",
    "ax[0].set_xlim(0, x_max)\n",
    "ax[0].set_ylim(0, y_max)\n",
    "ax[1].set_xlim(0, x_max)\n",
    "ax[1].set_ylim(0, 350)\n",
    "ax[0].set_ylabel(\"Posicion vertical [cms]\")\n",
    "ax[0].set_title(\"Simulacion de la Difusion de un soluto\")\n",
    "ax[1].set_xlabel(\"Posicion horizontal [cms]\")\n",
    "ax[1].set_ylabel(\"Cantidad de particulas\")\n",
    "ax[1].set_title(\"Histograma de la posicion horitonzal\")\n",
    "\n",
    "puntos = ax[0].scatter(x_locs[:,0].T, y_locs.T, s=1.5, c=\"red\")\n",
    "histograma, = ax[1].plot(edges[:-1], hist_x_locs[:,0])\n",
    "plt.show()\n",
    "\n",
    "def animation_frame(i, x_locs, y_locs, puntos, hist_x_locs, histograma):\n",
    "    # update x_locs data\n",
    "    data = np.vstack((x_locs[:,i], y_locs))\n",
    "    # update data for the plot\n",
    "    puntos.set_offsets(data.T)\n",
    "    histograma.set_ydata(hist_x_locs[:,i])\n",
    "    \n",
    "    return puntos, histograma\n",
    "\n",
    "ani = FuncAnimation(fig, animation_frame, frames = nitmax, fargs=(x_locs, y_locs, puntos, hist_x_locs, histograma), interval=10, repeat = False)"
   ]
  },
  {
   "attachments": {},
   "cell_type": "markdown",
   "metadata": {},
   "source": [
    "EJEMPLO: Modelo en 2D con vision 3D de la concentracion: https://scipython.com/blog/a-very-simple-2-d-diffusion-model/"
   ]
  },
  {
   "attachments": {},
   "cell_type": "markdown",
   "metadata": {},
   "source": [
    "## Corrientes de iones a traves de la membrana"
   ]
  },
  {
   "attachments": {},
   "cell_type": "markdown",
   "metadata": {},
   "source": [
    "Potasio K"
   ]
  },
  {
   "cell_type": "code",
   "execution_count": 117,
   "metadata": {},
   "outputs": [],
   "source": [
    "# Constantes\n",
    "R = 8.314 # Constante de los gases\n",
    "F = 9.649E4 # Faraday\n",
    "T = 310 # temperatura absoluta del cuerpo humano, 37 grados centigrados"
   ]
  },
  {
   "cell_type": "code",
   "execution_count": 118,
   "metadata": {},
   "outputs": [],
   "source": [
    "z = +1 #Carga\n",
    "Ci_K = 155 # concentracion interna de Potasio\n",
    "Co_K =  4 # concentracion externa de Potasio\n",
    "E_K = -97E-3 # Potencial de equilibrio del Potasio\n",
    "\n",
    "Em = np.arange(-400E-3, 200E-3, 1E-3) # Potencial de membrana en mV\n",
    "\n",
    "\n",
    "# Utizando la Ecuacion de corriente de Goldman-Hodgkin-Katz\n",
    "I_K = ((z**2)*(F**2)/(R*T))*Em*(Ci_K - Co_K*np.exp((-z*F/(R*T))*Em))/(1 - np.exp((-z*F/(R*T))*Em)) # Corriente de Potasio"
   ]
  },
  {
   "cell_type": "code",
   "execution_count": 119,
   "metadata": {},
   "outputs": [],
   "source": [
    "# create a figure and axis\n",
    "fig, ax = plt.subplots()\n",
    "\n",
    "# line plot\n",
    "ax.plot(Em, I_K,c='b')\n",
    "ax.vlines((0,0), ymin=np.min(I_K), ymax=np.max(I_K))\n",
    "ax.vlines(E_K, ymin=np.min(I_K), ymax=np.max(I_K), linestyles=\"dashed\", colors=\"k\")\n",
    "\n",
    "\n",
    "#Titulo\n",
    "ax.set_title('Corriente de Potasio en funcion de Em')\n",
    "#Etiqueta del exe X\n",
    "ax.set_xlabel('Em [V]')\n",
    "#Etiqueta del exe Y\n",
    "ax.set_ylabel('Corriente [# iones]')\n",
    "\n",
    "ax.set_ylim([np.min(I_K), np.max(I_K)])\n",
    "ax.grid()\n",
    "ax.set_axisbelow(True)\n",
    "plt.show()"
   ]
  }
 ],
 "metadata": {
  "kernelspec": {
   "display_name": "sys_itba",
   "language": "python",
   "name": "python3"
  },
  "language_info": {
   "codemirror_mode": {
    "name": "ipython",
    "version": 3
   },
   "file_extension": ".py",
   "mimetype": "text/x-python",
   "name": "python",
   "nbconvert_exporter": "python",
   "pygments_lexer": "ipython3",
   "version": "3.10.9"
  },
  "orig_nbformat": 4,
  "vscode": {
   "interpreter": {
    "hash": "4aef8bbf50b79acd5f6e02d7b635157f6842cd076165947491e95d8620a92165"
   }
  }
 },
 "nbformat": 4,
 "nbformat_minor": 2
}
