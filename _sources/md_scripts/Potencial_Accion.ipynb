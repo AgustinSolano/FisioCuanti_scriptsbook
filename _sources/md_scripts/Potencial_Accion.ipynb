{
 "cells": [
  {
   "attachments": {},
   "cell_type": "markdown",
   "metadata": {},
   "source": [
    "# Corrientes transmembrana y Modelo de Hodgkin y Huxley para el Potencial de Accion"
   ]
  },
  {
   "cell_type": "code",
   "execution_count": 2,
   "metadata": {},
   "outputs": [],
   "source": [
    "import matplotlib.pyplot as plt\n",
    "import pandas as pd\n",
    "import numpy as np"
   ]
  },
  {
   "attachments": {},
   "cell_type": "markdown",
   "metadata": {},
   "source": [
    "## Corrientes de iones a traves de la membrana"
   ]
  },
  {
   "attachments": {},
   "cell_type": "markdown",
   "metadata": {},
   "source": [
    "Potasio K"
   ]
  },
  {
   "cell_type": "code",
   "execution_count": 6,
   "metadata": {},
   "outputs": [],
   "source": [
    "# Constantes\n",
    "R = 8.314 # Constante de los gases\n",
    "F = 9.649E4 # Faraday\n",
    "T = 310 # temperatura absoluta del cuerpo humano, 37 grados centigrados"
   ]
  },
  {
   "cell_type": "code",
   "execution_count": 10,
   "metadata": {},
   "outputs": [],
   "source": [
    "z = +1 #Carga\n",
    "Ci_K = 155 # concentracion interna de Potasio\n",
    "Co_K =  4 # concentracion externa de Potasio\n",
    "E_K = -97E-3 # Potencial de equilibrio del Potasio\n",
    "\n",
    "Em = np.arange(-400E-3, 600E-3, 1E-3) # Potencial de membrana en mV\n",
    "\n",
    "\n",
    "# Utizando la Ecuacion de corriente de Goldman-Hodgkin-Katz\n",
    "I_K = ((z**2)*(F**2)/(R*T))*Em*(Ci_K - Co_K*np.exp((-z*F/(R*T))*Em))/(1 - np.exp((-z*F/(R*T))*Em)) # Corriente de Potasio\n",
    "\n",
    "# Coriente siguiendo la ley de Ohm APROXIMADA\n",
    "I_K_ohm = np.max(I_K)/np.max(Em)*Em"
   ]
  },
  {
   "cell_type": "code",
   "execution_count": 13,
   "metadata": {},
   "outputs": [],
   "source": [
    "# create a figure and axis\n",
    "fig, ax = plt.subplots()\n",
    "\n",
    "# line plot\n",
    "ax.plot(Em, I_K,c='b')\n",
    "ax.plot(Em, I_K_ohm,'k--')\n",
    "ax.vlines((0,0), ymin=np.min(I_K), ymax=np.max(I_K))\n",
    "ax.vlines(E_K, ymin=np.min(I_K), ymax=np.max(I_K), linestyles=\"dashed\", colors=\"k\")\n",
    "\n",
    "\n",
    "#Titulo\n",
    "ax.set_title('Corriente de Potasio en funcion de Em')\n",
    "#Etiqueta del exe X\n",
    "ax.set_xlabel('Em [V]')\n",
    "#Etiqueta del exe Y\n",
    "ax.set_ylabel('Densidad de Corriente')\n",
    "\n",
    "ax.set_ylim([np.min(I_K), np.max(I_K)])\n",
    "ax.grid()\n",
    "ax.set_axisbelow(True)\n",
    "\n",
    "plt.show()"
   ]
  },
  {
   "attachments": {},
   "cell_type": "markdown",
   "metadata": {},
   "source": [
    "Sodio Na"
   ]
  },
  {
   "cell_type": "code",
   "execution_count": 11,
   "metadata": {},
   "outputs": [],
   "source": [
    "z = +1 #Carga\n",
    "Ci_Na = 12 # concentracion interna de Sodio\n",
    "Co_Na =  145 # concentracion externa de Sodio\n",
    "E_Na = 66E-3 # Potencial de equilibrio del Sodio\n",
    "\n",
    "Em = np.arange(-400E-3, 600E-3, 1E-3) # Potencial de membrana en mV\n",
    "\n",
    "\n",
    "# Utizando la Ecuacion de corriente de Goldman-Hodgkin-Katz\n",
    "I_Na = ((z**2)*(F**2)/(R*T))*Em*(Ci_Na - Co_Na*np.exp((-z*F/(R*T))*Em))/(1 - np.exp((-z*F/(R*T))*Em)) # Corriente de Potasio\n",
    "\n",
    "# Coriente siguiendo la ley de Ohm APROXIMADA\n",
    "I_Na_ohm = np.min(I_Na)/np.min(Em)*Em"
   ]
  },
  {
   "cell_type": "code",
   "execution_count": 12,
   "metadata": {},
   "outputs": [],
   "source": [
    "# create a figure and axis\n",
    "fig2, ax2 = plt.subplots()\n",
    "\n",
    "# line plot\n",
    "ax2.plot(Em, I_Na,c='b')\n",
    "ax2.plot(Em, I_Na_ohm,'k--')\n",
    "ax2.vlines((0,0), ymin=np.min(I_Na), ymax=np.max(I_Na))\n",
    "ax2.vlines(E_Na, ymin=np.min(I_Na), ymax=np.max(I_Na), linestyles=\"dashed\", colors=\"k\")\n",
    "\n",
    "\n",
    "#Titulo\n",
    "ax2.set_title('Corriente de Sodio en funcion de Em')\n",
    "#Etiqueta del exe X\n",
    "ax2.set_xlabel('Em [V]')\n",
    "#Etiqueta del exe Y\n",
    "ax2.set_ylabel('Densidad de Corriente')\n",
    "\n",
    "ax2.set_ylim([np.min(I_Na), np.max(I_Na)])\n",
    "ax2.grid()\n",
    "ax2.set_axisbelow(True)\n",
    "\n",
    "plt.show()"
   ]
  },
  {
   "attachments": {},
   "cell_type": "markdown",
   "metadata": {},
   "source": [
    "* Como sera la densidad de corriente para el Cloro (Cl)?"
   ]
  },
  {
   "attachments": {},
   "cell_type": "markdown",
   "metadata": {},
   "source": [
    "## Modelado de las conductancias de Sodio y Potasion segun Hodgkin y Huxley"
   ]
  },
  {
   "attachments": {},
   "cell_type": "markdown",
   "metadata": {},
   "source": [
    "### Conductancia de Potasio\n",
    "\n",
    "Considerando un Voltage Clamp entre -65mV y +23mV"
   ]
  },
  {
   "cell_type": "code",
   "execution_count": 14,
   "metadata": {},
   "outputs": [],
   "source": [
    "#Coeficientes del modelo para la conductancia de Potasio\n",
    "n_inf = 0.9494\n",
    "n_0 = 0.3177\n",
    "T_n = 1.2028E-3 # [ms]\n",
    "gK_max = 36 # ms/cm2\n",
    "\n",
    "# tiempo\n",
    "t = np.arange(0, 10E-3, 0.1E-3)\n",
    "\n",
    "#\n",
    "n = n_inf - (n_inf - n_0)*np.exp(-(t/T_n))\n",
    "\n",
    "# Corriente de Potasio: IK = n^4*gK_max*(Em-EK), por ende la conductancia:\n",
    "gK = n**4*gK_max\n"
   ]
  },
  {
   "attachments": {},
   "cell_type": "markdown",
   "metadata": {},
   "source": [
    "### Conductancia de Sodio\n",
    "\n",
    "Considerando un Voltage Clamp entre -65mV y +23mV"
   ]
  },
  {
   "cell_type": "code",
   "execution_count": 27,
   "metadata": {},
   "outputs": [],
   "source": [
    "#Coeficientes del modelo para la conductancia de Sodio\n",
    "m_inf = 0.9953\n",
    "m_0 = 0.0529\n",
    "T_m = 0.1577E-3 # [ms]\n",
    "h_inf = 0.0009 \n",
    "h_0 = 0.5961\n",
    "T_h = 1.0022E-3 # [ms]\n",
    "gNa_max = 120 # ms/cm2\n",
    "\n",
    "# tiempo\n",
    "t = np.arange(0, 10E-3, 0.1E-3)\n",
    "\n",
    "#\n",
    "m = m_inf - (m_inf - m_0)*np.exp(-(t/T_m))\n",
    "h = h_inf - (h_inf - h_0)*np.exp(-(t/T_h))\n",
    "\n",
    "# Corriente de Sodio: INa = m^3*h*gNa_max*(Em-ENa), por ende la conductancia:\n",
    "gNa = m**3*h*gNa_max"
   ]
  },
  {
   "cell_type": "code",
   "execution_count": 28,
   "metadata": {},
   "outputs": [],
   "source": [
    "# create a figure and axis\n",
    "fig3, ax3 = plt.subplots()\n",
    "\n",
    "# line plot\n",
    "ax3.plot(t, gK,c='b', label=\"g_K\")\n",
    "ax3.plot(t, gNa,c='r', label=\"g_Na\")\n",
    "ax3.legend()\n",
    "\n",
    "#Titulo\n",
    "ax3.set_title('Conductancias de Sodio y Potasio')\n",
    "#Etiqueta del exe X\n",
    "ax3.set_xlabel('Tiempo [seg]')\n",
    "#Etiqueta del exe Y\n",
    "ax3.set_ylabel('Conductancia [mS/cm2]')\n",
    "\n",
    "ax3.grid()\n",
    "\n",
    "plt.show()"
   ]
  },
  {
   "attachments": {},
   "cell_type": "markdown",
   "metadata": {},
   "source": [
    "### Potencial de Accion (aproximado)"
   ]
  },
  {
   "attachments": {},
   "cell_type": "markdown",
   "metadata": {},
   "source": [
    "Se utiliza la ecuacion del potencial de membrana utilizando la conductancia instante a instante"
   ]
  },
  {
   "cell_type": "code",
   "execution_count": 29,
   "metadata": {},
   "outputs": [],
   "source": [
    "#Potencial de membrana\n",
    "E_Na = 66E-3 # Potencial de equilibrio del Sodio\n",
    "E_K = -97E-3 # Potencial de equilibrio del Potasio\n",
    "E_Cl = -80E-3 # Potencial de equilibrio del Cloro\n",
    "\n",
    "#Conductancia del canal de Cloro\n",
    "gCl = 10 # ms/cm2 \n",
    "suma_g = gNa + gK + gCl\n",
    "\n",
    "Em = gNa/suma_g*E_Na + gK/suma_g*E_K + gCl/suma_g*E_Cl"
   ]
  },
  {
   "cell_type": "code",
   "execution_count": 48,
   "metadata": {},
   "outputs": [],
   "source": [
    "# create a figure and axis\n",
    "fig4, ax4 = plt.subplots()\n",
    "\n",
    "# line plot\n",
    "\n",
    "ax4.hlines((0,0), xmin=-0.01, xmax=0.015, linestyles=\"dashed\", colors=\"k\")\n",
    "ax4.hlines((-0.065,-0.065), xmin=-0.01, xmax=0.015, linestyles=\"dashed\", colors=\"k\")\n",
    "ax4.plot(t, Em,c='b')\n",
    "\n",
    "#Titulo\n",
    "ax4.set_title('Potencial de Accion segun HH')\n",
    "#Etiqueta del exe X\n",
    "ax4.set_xlabel('Tiempo [seg]')\n",
    "#Etiqueta del exe Y\n",
    "ax4.set_ylabel('Potencial de membrana [V]')\n",
    "\n",
    "ax4.set_xlim([0,0.010])\n",
    "ax4.text(0.0015, 0.02, 'Membrana se Despolariza', fontsize=12)\n",
    "ax4.text(0.005, -0.085, 'Membrana se Hiperpolariza', fontsize=12)\n",
    "ax4.text(0.004, -0.064, 'Potencial de Membrana en Reposo', fontsize=12)\n",
    "\n",
    "ax4.grid()\n",
    "\n",
    "plt.show()"
   ]
  },
  {
   "attachments": {},
   "cell_type": "markdown",
   "metadata": {},
   "source": [
    "* Hacer un grafico en el que se pueda visualizar las conductancias y el potencial de membrana juntos."
   ]
  }
 ],
 "metadata": {
  "kernelspec": {
   "display_name": "sys_itba",
   "language": "python",
   "name": "python3"
  },
  "language_info": {
   "codemirror_mode": {
    "name": "ipython",
    "version": 3
   },
   "file_extension": ".py",
   "mimetype": "text/x-python",
   "name": "python",
   "nbconvert_exporter": "python",
   "pygments_lexer": "ipython3",
   "version": "3.10.9"
  },
  "orig_nbformat": 4,
  "vscode": {
   "interpreter": {
    "hash": "4aef8bbf50b79acd5f6e02d7b635157f6842cd076165947491e95d8620a92165"
   }
  }
 },
 "nbformat": 4,
 "nbformat_minor": 2
}
